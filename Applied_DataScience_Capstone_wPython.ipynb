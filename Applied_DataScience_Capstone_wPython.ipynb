{
 "cells": [
  {
   "cell_type": "markdown",
   "id": "195d6ffb",
   "metadata": {},
   "source": [
    "<h1>Applied Data Science Capstone</h1>\n",
    "<h3>Description</h3>"
   ]
  },
  {
   "cell_type": "markdown",
   "id": "f35953a2",
   "metadata": {},
   "source": [
    "This Jupyter Notebook will be used to complete the capstone project for this class. If you have any feedback please don't hesitate to contact me via GitHub or the class forum. "
   ]
  },
  {
   "cell_type": "code",
   "execution_count": 2,
   "id": "93b077e9",
   "metadata": {},
   "outputs": [],
   "source": [
    "#!pip install pandas\n",
    "#!pip install numpy\n",
    "import pandas as pd\n",
    "import numpy as np"
   ]
  },
  {
   "cell_type": "code",
   "execution_count": 3,
   "id": "09894411",
   "metadata": {},
   "outputs": [
    {
     "name": "stdout",
     "output_type": "stream",
     "text": [
      "Hello Capstone Project Course!\n"
     ]
    }
   ],
   "source": [
    "msg = 'Hello Capstone Project Course!'\n",
    "print(msg)"
   ]
  },
  {
   "cell_type": "code",
   "execution_count": null,
   "id": "92801928",
   "metadata": {},
   "outputs": [],
   "source": []
  }
 ],
 "metadata": {
  "kernelspec": {
   "display_name": "Python 3",
   "language": "python",
   "name": "python3"
  },
  "language_info": {
   "codemirror_mode": {
    "name": "ipython",
    "version": 3
   },
   "file_extension": ".py",
   "mimetype": "text/x-python",
   "name": "python",
   "nbconvert_exporter": "python",
   "pygments_lexer": "ipython3",
   "version": "3.8.8"
  }
 },
 "nbformat": 4,
 "nbformat_minor": 5
}
