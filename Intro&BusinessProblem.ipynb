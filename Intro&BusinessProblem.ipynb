{
 "cells": [
  {
   "cell_type": "markdown",
   "id": "5c972891",
   "metadata": {},
   "source": [
    "## Introduction & Business Problem"
   ]
  },
  {
   "cell_type": "markdown",
   "id": "4483bd8d",
   "metadata": {},
   "source": [
    "### 1.\n",
    "I live in a tourist destination known as Honolulu, Hawaii. Honolulu is located on Oahu and is part of the Hawaiian islands. From time to time when I'm not busy with school or playing with my dog or cruising with my family I like to drive for rideshare companies such as Lyft and Uber. Being a tourist destination new people are always arriving and asking about life on the island and what there is to do around here.\n",
    "\n",
    "Maybe it's not the most carefully thought out, but my idea is to leverage the Foursquare API to give the rideshare customers more information on the venues and scenic places to visit around the island. The aim would be to improve the experience of the passenger such that the result woulb strong positive feedback and maybe a tip based on how knowledgable and helpful there rideshare driver is. I think this idea could potentially be leveraged in a variety of cities and would give new positive experiences to both passengers and drivers. \n",
    "    "
   ]
  },
  {
   "cell_type": "markdown",
   "id": "f2a59f4b",
   "metadata": {},
   "source": [
    "### 2.\n",
    "\n",
    "My plan is to use geopy, pandas, requests, and folium to extract location data of popular sites around the island of Oahu, learn about the qualiites of each through accessing tips, and map it location relative to downtown Waikiki. I've chosen the Aston Waikiki arbitrarily as the central point for the geolocator. This location marks a rich tourism district. From there I will access the Foursquare API with search queries such as 'Trail', 'Waterfall', 'Venue', and so on. The results will be requested in .json format and I will convert this to a Pandas dataframe. I will then filter and clean the dataframe to show only data I feel is useful. I will then generate a map with the Aston Waikiki as the center point with all 'trails' in a given radius, or all 'scenic points' in a given radius, or all 'venues' in a given radius, or the 'top rated venue' and so on. "
   ]
  },
  {
   "cell_type": "code",
   "execution_count": null,
   "id": "b739b713",
   "metadata": {},
   "outputs": [],
   "source": []
  }
 ],
 "metadata": {
  "kernelspec": {
   "display_name": "Python 3",
   "language": "python",
   "name": "python3"
  },
  "language_info": {
   "codemirror_mode": {
    "name": "ipython",
    "version": 3
   },
   "file_extension": ".py",
   "mimetype": "text/x-python",
   "name": "python",
   "nbconvert_exporter": "python",
   "pygments_lexer": "ipython3",
   "version": "3.8.8"
  }
 },
 "nbformat": 4,
 "nbformat_minor": 5
}
